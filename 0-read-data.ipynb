{
 "cells": [
  {
   "cell_type": "markdown",
   "metadata": {},
   "source": [
    "In this tuturial we will use a dataset of mosquito wingbeat recordings which have been obtained from this [kaggle](www.kaggle.com) dataset [Wingbeats](https://www.kaggle.com/potamitis/wingbeats/data).\n",
    "\n",
    "The data collection process is described in the following paper:\n",
    "\n",
    "[ Ilyas Potamitis and Iraklis Rigakis, ''Large Aperture Optoelectronic Devices to Record and Time-Stamp Insects’ Wingbeats''](http://ieeexplore.ieee.org/abstract/document/7482663/)"
   ]
  },
  {
   "cell_type": "markdown",
   "metadata": {},
   "source": [
    "This notebook uses a few packages which do not come with a standard Anaconda installation. But can be easily installed directly from the notebook. If need run the next cell."
   ]
  },
  {
   "cell_type": "code",
   "execution_count": 1,
   "metadata": {},
   "outputs": [
    {
     "name": "stdout",
     "output_type": "stream",
     "text": [
      "Requirement already satisfied: soundfile in /Users/valentina/anaconda/envs/wingbeats/lib/python3.6/site-packages\n",
      "Requirement already satisfied: cffi>=1.0 in /Users/valentina/anaconda/envs/wingbeats/lib/python3.6/site-packages (from soundfile)\n",
      "Requirement already satisfied: pycparser in /Users/valentina/anaconda/envs/wingbeats/lib/python3.6/site-packages (from cffi>=1.0->soundfile)\n",
      "\u001b[33mYou are using pip version 9.0.1, however version 10.0.1 is available.\n",
      "You should consider upgrading via the 'pip install --upgrade pip' command.\u001b[0m\n",
      "Solving environment: done\n",
      "\n",
      "\n",
      "==> WARNING: A newer version of conda exists. <==\n",
      "  current version: 4.4.9\n",
      "  latest version: 4.5.2\n",
      "\n",
      "Please update conda by running\n",
      "\n",
      "    $ conda update -n base conda\n",
      "\n",
      "\n",
      "\n",
      "## Package Plan ##\n",
      "\n",
      "  environment location: /Users/valentina/anaconda/envs/wingbeats\n",
      "\n",
      "  added / updated specs: \n",
      "    - librosa\n",
      "\n",
      "\n",
      "The following packages will be downloaded:\n",
      "\n",
      "    package                    |            build\n",
      "    ---------------------------|-----------------\n",
      "    certifi-2018.4.16          |           py36_0         142 KB  conda-forge\n",
      "\n",
      "The following packages will be UPDATED:\n",
      "\n",
      "    ca-certificates: 2018.03.07-0      --> 2018.4.16-0      conda-forge\n",
      "    certifi:         2018.4.16-py36_0  --> 2018.4.16-py36_0 conda-forge\n",
      "    openssl:         1.0.2o-h26aff7b_0 --> 1.0.2o-0         conda-forge\n",
      "\n",
      "\n",
      "Downloading and Extracting Packages\n",
      "certifi 2018.4.16: ##################################################### | 100% \n",
      "Preparing transaction: done\n",
      "Verifying transaction: done\n",
      "Executing transaction: done\n",
      "Solving environment: done\n",
      "\n",
      "\n",
      "==> WARNING: A newer version of conda exists. <==\n",
      "  current version: 4.4.9\n",
      "  latest version: 4.5.2\n",
      "\n",
      "Please update conda by running\n",
      "\n",
      "    $ conda update -n base conda\n",
      "\n",
      "\n",
      "\n",
      "## Package Plan ##\n",
      "\n",
      "  environment location: /Users/valentina/anaconda/envs/wingbeats\n",
      "\n",
      "  added / updated specs: \n",
      "    - seaborn\n",
      "\n",
      "\n",
      "The following packages will be downloaded:\n",
      "\n",
      "    package                    |            build\n",
      "    ---------------------------|-----------------\n",
      "    certifi-2018.4.16          |           py36_0         142 KB\n",
      "\n",
      "The following packages will be UPDATED:\n",
      "\n",
      "    certifi:         2018.4.16-py36_0 conda-forge --> 2018.4.16-py36_0 \n",
      "    openssl:         1.0.2o-0         conda-forge --> 1.0.2o-h26aff7b_0\n",
      "\n",
      "The following packages will be DOWNGRADED:\n",
      "\n",
      "    ca-certificates: 2018.4.16-0      conda-forge --> 2018.03.07-0     \n",
      "\n",
      "\n",
      "Downloading and Extracting Packages\n",
      "certifi 2018.4.16: ##################################################### | 100% \n",
      "Preparing transaction: done\n",
      "Verifying transaction: done\n",
      "Executing transaction: done\n"
     ]
    }
   ],
   "source": [
    "! pip install soundfile\n",
    "! conda install --yes -c conda-forge librosa\n",
    "! conda install --yes seaborn"
   ]
  },
  {
   "cell_type": "code",
   "execution_count": 2,
   "metadata": {},
   "outputs": [],
   "source": [
    "# First we will import many packages that we will need\n",
    "\n",
    "from sklearn.utils import shuffle\n",
    "import librosa\n",
    "import pandas as pd\n",
    "import numpy as np\n",
    "\n",
    "from matplotlib import pyplot as plt\n",
    "%matplotlib inline\n",
    "\n",
    "import os\n",
    "import soundfile as sf\n",
    "from scipy import signal\n",
    "import seaborn as sn"
   ]
  },
  {
   "cell_type": "markdown",
   "metadata": {},
   "source": [
    "The dataset contains 279,566 recordings, but we will use only subset of them to make the computation and storage simpler. The first step is to download the dataset from the kaggle link and store it locally in the folder called data. Next we will use the following function to read the recordings into python."
   ]
  },
  {
   "cell_type": "code",
   "execution_count": 3,
   "metadata": {},
   "outputs": [],
   "source": [
    "# the following function reads recording from the Wingbeats Database\n",
    "def get_data(target_names):\n",
    "\n",
    "\t# Read a subset of recs from every species\n",
    "\t# Note: All wav files must be the same sampling frequency and number of datapoints!\n",
    "\n",
    "\tX = []                    # holds all data\n",
    "\ty = []                    # holds all class labels\n",
    "\n",
    "\tfilenames = []            # holds all the file names\n",
    "\ttarget_count = []         # holds the counts in a class\n",
    "\n",
    "\tfor i, target in enumerate(target_names):\n",
    "\t    target_count.append(0)  # initialize target count\n",
    "\t    path=os.path.join('data','Wingbeats',target)    # assemble path string\n",
    "\n",
    "\t    for [root, dirs, files] in os.walk(path, topdown=False):\n",
    "\t        for filename in files:\n",
    "\t            name,ext = os.path.splitext(filename)\n",
    "\t            if ext=='.wav':\n",
    "\t                name=os.path.join(root, filename)\n",
    "\t                data, fs = sf.read(name)\n",
    "\t                X.append(data)\n",
    "\t                y.append(i)\n",
    "\t                filenames.append(name)\n",
    "\t                target_count[i]+=1\n",
    "\t                if target_count[i]>400:\n",
    "\t                \tbreak\n",
    "\t    print (target,'#recs = ', target_count[i])\n",
    "\n",
    "\tX = np.vstack(X)\n",
    "\ty = np.hstack(y)\n",
    "\n",
    "\tX = X.astype(\"float32\")\n",
    "\tprint (\"\")\n",
    "\tprint (\"Total dataset size:\")\n",
    "\tprint ('# of classes: %d' % len(np.unique(y)))\n",
    "\tprint ('total dataset size: %d' % X.shape[0])\n",
    "\tprint ('Sampling frequency = %d Hz' % fs)\n",
    "\tprint (\"n_samples: %d\" % X.shape[1])\n",
    "\tprint (\"duration (sec): %f\" % (X.shape[1]/fs))\n",
    "\n",
    "\treturn X, y"
   ]
  },
  {
   "cell_type": "code",
   "execution_count": 4,
   "metadata": {},
   "outputs": [
    {
     "name": "stdout",
     "output_type": "stream",
     "text": [
      "Ae. aegypti #recs =  1258\n",
      "Ae. albopictus #recs =  599\n",
      "An. gambiae #recs =  891\n",
      "An. arabiensis #recs =  590\n",
      "C. pipiens #recs =  701\n",
      "C. quinquefasciatus #recs =  1142\n",
      "\n",
      "Total dataset size:\n",
      "# of classes: 6\n",
      "total dataset size: 5181\n",
      "Sampling frequency = 8000 Hz\n",
      "n_samples: 5000\n",
      "duration (sec): 0.625000\n",
      "\n",
      "The size of X is (5181, 5000), where 5181 indicates the number of recordings and 5000 is the length of each recording.\n"
     ]
    }
   ],
   "source": [
    "target_names = ['Ae. aegypti', 'Ae. albopictus', 'An. gambiae', 'An. arabiensis', 'C. pipiens', 'C. quinquefasciatus']\n",
    "\n",
    "X, y = get_data(target_names)\n",
    "\n",
    "# We will reshuffle the data to avoid the ordering effect\n",
    "X, y = shuffle(X,y, random_state=2018)\n",
    "print('\\nThe size of X is %s, where %d indicates the number of recordings and %d is the length of each recording.' % (str(X.shape),X.shape[0],X.shape[1]))"
   ]
  },
  {
   "cell_type": "markdown",
   "metadata": {},
   "source": [
    "The data in this format is very useful for many functions in `scikit-learn`, so we will store $X$ and $y$ so that we can directly use these variables in the next notebooks."
   ]
  },
  {
   "cell_type": "code",
   "execution_count": 6,
   "metadata": {},
   "outputs": [],
   "source": [
    "# storing the data\n",
    "np.save(os.path.join('data','X.npy'),X)\n",
    "np.save(os.path.join('data','y.npy'),y)"
   ]
  },
  {
   "cell_type": "code",
   "execution_count": null,
   "metadata": {},
   "outputs": [],
   "source": []
  }
 ],
 "metadata": {
  "kernelspec": {
   "display_name": "Python 3",
   "language": "python",
   "name": "python3"
  },
  "language_info": {
   "codemirror_mode": {
    "name": "ipython",
    "version": 3
   },
   "file_extension": ".py",
   "mimetype": "text/x-python",
   "name": "python",
   "nbconvert_exporter": "python",
   "pygments_lexer": "ipython3",
   "version": "3.6.4"
  }
 },
 "nbformat": 4,
 "nbformat_minor": 2
}
